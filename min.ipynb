{
 "cells": [
  {
   "cell_type": "code",
   "execution_count": 1,
   "metadata": {},
   "outputs": [],
   "source": [
    "# Importing the required libraries.\n",
    "import glob\n",
    "import pandas as pd\n",
    "import numpy as np\n",
    "\n",
    "%matplotlib inline\n",
    "import matplotlib.pyplot as plt\n",
    "import seaborn as sns\n",
    "import plotly.express as px\n",
    "from statsmodels.stats.weightstats import DescrStatsW"
   ]
  },
  {
   "cell_type": "code",
   "execution_count": 33,
   "metadata": {},
   "outputs": [],
   "source": [
    "path = r'Data/Prat'\n",
    "all_files = glob.glob(path + \"/*.csv\")\n",
    "\n",
    "li = []\n",
    "for filename in all_files:\n",
    "    df = pd.read_csv(filename, index_col=None, header=0)\n",
    "    li.append(df)\n",
    "\n",
    "prat = pd.concat(li, axis=0, ignore_index=True)"
   ]
  },
  {
   "cell_type": "code",
   "execution_count": 34,
   "metadata": {},
   "outputs": [],
   "source": [
    "def datawrangling(df):\n",
    "\n",
    "    ## Calculates the min hourly wage of each individual and some wrangling\n",
    "\n",
    "    ## Reanme columns\n",
    "    df = df.rename(columns={'s_seker': 'year',\"min\":\"gender\"})\n",
    "\n",
    "    ## Calculates the min hourly wage of each individual\n",
    "    ## Codebook --> sh_shavua -> weekly work hours, shavuot -> monthly work weeks, i111prat -> monthly income from work, i112prat -> monthly income from self imployment\n",
    "    df = df.loc[(df[\"i111prat\"] > 0) & (df[\"i112prat\"] == 0)]\n",
    "    df[\"wage_hr\"]= df['i111prat'] / (df['sh_shavua'] * df['shavuot'])\n",
    "    \n",
    "     ## Filter only individuals aged 30+\n",
    "    df = df.loc[(df[\"age_group\"]>5)]\n",
    "    df = df.loc[(df[\"age_group\"]<11)]\n",
    "\n",
    "    df[\"quarter_year\"]= df[\"quarter\"].astype(str) + \"-\" + df[\"year\"].astype(str)\n",
    "    df[\"quarter_year\"] = df.apply(lambda x: x[\"quarter_year\"] if x[\"year\"] < 2019 else 2019, axis=1)\n",
    "\n",
    "    ## Merge Data on mandatory min wage for each year (For year in which the min wage was updated, keeped only the later)\n",
    "    by_year = pd.read_excel(\"min_by_year_quart.xlsx\")\n",
    "    df = pd.merge(df, by_year, on=\"quarter_year\", how=\"left\")\n",
    "\n",
    "    ## Creates dummy for above min wage, 120% min wage and 140% min wage\n",
    "    df[\"is_above_min_wage\"] = (df[\"wage_hr\"] > df[\"min_wage\"]).astype(int)\n",
    "    df[\"is_above_120_min_wage\"] = (df[\"wage_hr\"] > df[\"min_wage\"] * 1.2).astype(int)\n",
    "    df[\"is_above_140_min_wage\"] = (df[\"wage_hr\"] > df[\"min_wage\"] * 1.4).astype(int)\n",
    "    df[\"perc_of_min_wage\"] = (df[\"wage_hr\"] / df[\"min_wage\"])*100\n",
    "\n",
    "    return df\n",
    "\n",
    "df = datawrangling(prat)\n"
   ]
  },
  {
   "cell_type": "code",
   "execution_count": 35,
   "metadata": {},
   "outputs": [
    {
     "name": "stdout",
     "output_type": "stream",
     "text": [
      "2015 - 89.77%, 0.3 -> 79.56%, 0.4  -> 68.82%, 0.46\n",
      "2016 - 89.91%, 0.3 -> 79.95%, 0.4  -> 68.72%, 0.46\n",
      "2017 - 90.18%, 0.3 -> 78.76%, 0.41  -> 68.20%, 0.47\n",
      "2018 - 87.98%, 0.33 -> 76.82%, 0.42  -> 66.00%, 0.47\n",
      "2019 - 88.65%, 0.32 -> 77.87%, 0.42  -> 66.94%, 0.47\n"
     ]
    }
   ],
   "source": [
    "## Percent of individuals above min wage by year\n",
    "\n",
    "df_by_year = pd.DataFrame()\n",
    "\n",
    "for year in df.year.unique():\n",
    "    data = df.loc[(df[\"year\"]==year)]\n",
    "    above_a = DescrStatsW(data[\"is_above_min_wage\"], weights=data[\"weight\"])\n",
    "    above = above_a.mean\n",
    "    above_std = above_a.std\n",
    "    above_120_a = DescrStatsW(data[\"is_above_120_min_wage\"], weights=data[\"weight\"])\n",
    "    above_120 = above_120_a.mean\n",
    "    above_120_std = above_120_a.std\n",
    "    above_140_a = DescrStatsW(data[\"is_above_140_min_wage\"], weights=data[\"weight\"])\n",
    "    above_140 = above_140_a.mean\n",
    "    above_140_std = above_140_a.std\n",
    "    print(f\"{year} - {above:.2%}, {above_std:.2} -> {above_120:.2%}, {above_120_std:.2}  -> {above_140:.2%}, {above_140_std:.2}\")\n",
    "    df_by_year = df_by_year.append({\"year\": year, \"מעל שכר המינימום\": above, \"מעל 120% משכר המינימום\": above_120, \"מעל 140% שכר מינימום\": above_140}, ignore_index=True)"
   ]
  },
  {
   "cell_type": "code",
   "execution_count": 36,
   "metadata": {},
   "outputs": [
    {
     "data": {
      "image/png": "[encoded data removed]",
      "text/plain": [
       "<Figure size 720x432 with 1 Axes>"
      ]
     },
     "metadata": {
      "needs_background": "light"
     },
     "output_type": "display_data"
    }
   ],
   "source": [
    "## Plotting the results\n",
    "x=df_by_year[\"year\"]\n",
    "fig, ax = plt.subplots(figsize=(10, 6))\n",
    "ax.plot(x, df_by_year[\"מעל שכר המינימום\"], label=\"מעל שכר המינימום\"[::-1])\n",
    "ax.plot(x, df_by_year[\"מעל 120% משכר המינימום\"], label=\"מעל %021 משכר המינימום\" [::-1])\n",
    "ax.plot(x, df_by_year[\"מעל 140% שכר מינימום\"], label=\"מעל %041 שכר מינימום\" [::-1])\n",
    "ax.set_xlabel('שנה'[::-1])\n",
    "ax.set_ylabel('אחוז מכלל העובדים בקבוצות הגיל'[::-1])\n",
    "ax.set_title( 'אחוז העובדים מעל שכר המינימום בישראל גילאי 94-52 ,91-5102' [::-1])\n",
    "\n",
    "ax.legend()\n",
    "source = 'מקור: עיבוד לסקרי הוצאות משקי הבית 9102-5102, הלמ\"ס'    \n",
    "#plt.annotate(source[::-1], xy = (2014.8, 0.61), annotation_clip = False)\n",
    "plt.show()\n",
    "\n",
    "## Saving the plot\n",
    "fig.savefig(\"min_wage.png\")\n"
   ]
  },
  {
   "cell_type": "code",
   "execution_count": 37,
   "metadata": {},
   "outputs": [
    {
     "name": "stdout",
     "output_type": "stream",
     "text": [
      "נשים - 86.16%, 0.35 -> 72.85%, 0.44  -> 61.90%, 0.49\n",
      "גברים - 89.71%, 0.3 -> 80.58%, 0.4  -> 69.89%, 0.46\n"
     ]
    }
   ],
   "source": [
    "## Percent of individuals above min wage by gender 2018 only\n",
    "\n",
    "df = df.loc[(df[\"year\"]==2018)]\n",
    "df_by_gender = pd.DataFrame()\n",
    "\n",
    "def recode_gender(g):\n",
    "    if g == 2:\n",
    "        return \"נשים\"\n",
    "    elif g==1:\n",
    "        return \"גברים\"\n",
    "\n",
    "df[\"gender\"]= df[\"gender\"].apply(recode_gender)\n",
    "\n",
    "for gender in df.gender.unique():\n",
    "    data = df.loc[(df[\"gender\"]==gender)]\n",
    "    above_a = DescrStatsW(data[\"is_above_min_wage\"], weights=data[\"weight\"])\n",
    "    above = above_a.mean\n",
    "    above_std = above_a.std\n",
    "    above_120_a = DescrStatsW(data[\"is_above_120_min_wage\"], weights=data[\"weight\"])\n",
    "    above_120 = above_120_a.mean\n",
    "    above_120_std = above_120_a.std\n",
    "    above_140_a = DescrStatsW(data[\"is_above_140_min_wage\"], weights=data[\"weight\"])\n",
    "    above_140 = above_140_a.mean\n",
    "    above_140_std = above_140_a.std\n",
    "    print(f\"{gender} - {above:.2%}, {above_std:.2} -> {above_120:.2%}, {above_120_std:.2}  -> {above_140:.2%}, {above_140_std:.2}\")\n",
    "    df_by_gender = df_by_gender.append({\"Gender\": gender, \"מעל שכר המינימום\": above, \"מעל 120% משכר המינימום\": above_120, \"מעל 140% שכר מינימום\": above_140}, ignore_index=True)\n",
    "\n"
   ]
  },
  {
   "cell_type": "code",
   "execution_count": 38,
   "metadata": {},
   "outputs": [
    {
     "name": "stdout",
     "output_type": "stream",
     "text": [
      "השכלה אקדמית - 94.88%, 0.22 -> 88.89%, 0.31  -> 81.71%, 0.39\n",
      "השכלה על תיכונית מקצועית - 86.86%, 0.34 -> 74.49%, 0.44  -> 62.25%, 0.48\n",
      "עד 12 שנות לימוד - 78.63%, 0.41 -> 60.82%, 0.49  -> 45.39%, 0.5\n",
      "השכלה על תיכונית חרדית - 84.76%, 0.36 -> 69.35%, 0.46  -> 59.03%, 0.49\n",
      "השכלה אחרת - 93.02%, 0.25 -> 89.74%, 0.3  -> 79.38%, 0.4\n",
      "לא ידוע - 71.20%, 0.45 -> 33.73%, 0.47  -> 15.08%, 0.36\n"
     ]
    }
   ],
   "source": [
    "## Percent of individuals above min wage by schooling 2018 only\n",
    "\n",
    "df = df.loc[(df[\"year\"]==2018)]\n",
    "df_by_school = pd.DataFrame()\n",
    "\n",
    "## Recode school variable\n",
    "def recode_school(x):\n",
    "    if x <= 9:\n",
    "        return \"עד 12 שנות לימוד\"\n",
    "    elif x == 10:    \n",
    "        return \"השכלה על תיכונית חרדית\"\n",
    "    elif x == 11:    \n",
    "        return \"השכלה על תיכונית מקצועית\"\n",
    "    elif x == 12 or x== 13:\n",
    "        return \"השכלה אקדמית\"\n",
    "    elif x==14:\n",
    "        return \"השכלה אחרת\"\n",
    "    else:\n",
    "        return \"לא ידוע\"\n",
    "df[\"hascala\"] = df[\"l_school\"].apply(recode_school)\n",
    "\n",
    "for school in df.hascala.unique():\n",
    "    data = df.loc[(df[\"hascala\"]==school)]\n",
    "    above_a = DescrStatsW(data[\"is_above_min_wage\"], weights=data[\"weight\"])\n",
    "    above = above_a.mean\n",
    "    above_std = above_a.std\n",
    "    above_120_a = DescrStatsW(data[\"is_above_120_min_wage\"], weights=data[\"weight\"])\n",
    "    above_120 = above_120_a.mean\n",
    "    above_120_std = above_120_a.std\n",
    "    above_140_a = DescrStatsW(data[\"is_above_140_min_wage\"], weights=data[\"weight\"])\n",
    "    above_140 = above_140_a.mean\n",
    "    above_140_std = above_140_a.std\n",
    "    print(f\"{school} - {above:.2%}, {above_std:.2} -> {above_120:.2%}, {above_120_std:.2}  -> {above_140:.2%}, {above_140_std:.2}\")\n",
    "    df_by_school = df_by_school.append({\"School\": school, \"מעל שכר המינימום\": above, \"מעל 120% משכר המינימום\": above_120, \"מעל 140% שכר מינימום\": above_140}, ignore_index=True)"
   ]
  },
  {
   "cell_type": "code",
   "execution_count": 39,
   "metadata": {},
   "outputs": [],
   "source": [
    "## Export to file\n",
    "writer = pd.ExcelWriter('min_wage.xlsx', engine='xlsxwriter')\n",
    "df_by_year.to_excel(writer,sheet_name=\"by_year\", index=False)\n",
    "df_by_gender.to_excel(writer,sheet_name= \"by_gender\", index=False)\n",
    "df_by_school.to_excel(writer,sheet_name= \"by_school\", index=False)\n",
    "\n",
    "writer.save()\n"
   ]
  }
 ],
 "metadata": {
  "kernelspec": {
   "display_name": "Python 3.8.8 ('base')",
   "language": "python",
   "name": "python3"
  },
  "language_info": {
   "codemirror_mode": {
    "name": "ipython",
    "version": 3
   },
   "file_extension": ".py",
   "mimetype": "text/x-python",
   "name": "python",
   "nbconvert_exporter": "python",
   "pygments_lexer": "ipython3",
   "version": "3.8.8"
  },
  "orig_nbformat": 4,
  "vscode": {
   "interpreter": {
    "hash": "21285703334ff9ad0485a20549414d39509d302abdef938bdec846b879f92609"
   }
  }
 },
 "nbformat": 4,
 "nbformat_minor": 2
}
